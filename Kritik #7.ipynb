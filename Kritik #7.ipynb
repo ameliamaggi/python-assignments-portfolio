{
 "cells": [
  {
   "cell_type": "code",
   "execution_count": 14,
   "id": "8cc9339d",
   "metadata": {},
   "outputs": [
    {
     "name": "stdout",
     "output_type": "stream",
     "text": [
      "Mean: 82.382\n",
      "Standard Deviation: 10.193467189005581\n",
      "t0: 2.290087686017293\n",
      "t*: 2.2522252225222523\n",
      "Is tO within the interval [-t*, t*l? False\n",
      "We reject the null hypothesis. There is a statistically significant difference.\n",
      "The statistical evidence suggests that the new teaching technique is beneficial.\n"
     ]
    }
   ],
   "source": [
    "import math\n",
    "import numpy\n",
    "\n",
    "# First, find mean & standard deviation\n",
    "\n",
    "def avrg(nums):\n",
    "    return sum(nums)/len(nums)\n",
    "\n",
    "def stddev (nums):\n",
    "    avg = avrg(nums)\n",
    "    variance = sum((x-avg) ** 2 for x in nums)/(len(nums)-1)\n",
    "    return variance ** 0.5\n",
    "\n",
    "scores = [92.64, 79.00, 84.79, 97.41, 93.68, 65.23, 84.50, 73.49, 73.97, 79.11]\n",
    "\n",
    "avg = avrg(scores)\n",
    "stdev = stddev(scores)\n",
    "\n",
    "print(\"Mean:\", avg)\n",
    "print(\"Standard Deviation:\", stdev)\n",
    "\n",
    "# Second, find t0\n",
    "\n",
    "def t0 (avg, stdev, mu, n):\n",
    "    return (avg - mu) / (stdev / (n ** 0.5))\n",
    "\n",
    "mu0 = 75 # population mean\n",
    "n = len(scores) # size\n",
    "t0 = t0(avg, stdev, mu0, n) # t0\n",
    "print(\"t0:\", t0)\n",
    "\n",
    "# Third, find t*\n",
    "\n",
    "import numpy as np \n",
    "from scipy. special import gamma\n",
    "\n",
    "def distribution(x, nu):\n",
    "    coeff = gamma ((nu + 1) / 2) / (np.sqrt(nu * np.pi) * gamma (nu / 2) )\n",
    "    density = coeff * (1 + x ** 2 / nu) ** (-0.5 * (nu + 1))\n",
    "    return density\n",
    "\n",
    "def tstar(prob, nu, x_start=0, x_end=20, num_points=10000):\n",
    "    x = np. linspace(x_start, x_end, num_points)\n",
    "    y = distribution(x, nu)\n",
    "    cdf = np.cumsum (y) * (x[1] - x[0])\n",
    "    target_half_prob = prob / 2\n",
    "    index = np.where(cdf >= target_half_prob) [0] [0]\n",
    "    return x[index]\n",
    "    \n",
    "# Compute t*\n",
    "tstar = tstar(0.95, n-1)\n",
    "print(\"t*:\", tstar)\n",
    "\n",
    "def withininterval(t0, tstar):\n",
    "    return -tstar <= t0 < tstar # Check if tO is within [-t*, t*]\n",
    "\n",
    "withininterval = withininterval(t0, tstar)\n",
    "\n",
    "print(\"Is tO within the interval [-t*, t*l?\", withininterval)\n",
    "\n",
    "if withininterval:\n",
    "    print(\"We accept the null hypothesis. There is no statistically significant difference.\") \n",
    "else:\n",
    "    print(\"We reject the null hypothesis. There is a statistically significant difference.\")\n",
    "\n",
    "if t0 > 0:\n",
    "    print(\"The statistical evidence suggests that the new teaching technique is beneficial.\")\n",
    "else:\n",
    "    print(\"The statistical evidence suggests that the new teaching technique is detrimental.\")"
   ]
  },
  {
   "cell_type": "code",
   "execution_count": null,
   "id": "a9767c6f",
   "metadata": {},
   "outputs": [],
   "source": []
  }
 ],
 "metadata": {
  "kernelspec": {
   "display_name": "Python 3 (ipykernel)",
   "language": "python",
   "name": "python3"
  },
  "language_info": {
   "codemirror_mode": {
    "name": "ipython",
    "version": 3
   },
   "file_extension": ".py",
   "mimetype": "text/x-python",
   "name": "python",
   "nbconvert_exporter": "python",
   "pygments_lexer": "ipython3",
   "version": "3.11.4"
  }
 },
 "nbformat": 4,
 "nbformat_minor": 5
}
